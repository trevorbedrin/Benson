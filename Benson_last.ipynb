{
 "metadata": {
  "name": "",
  "signature": "sha256:c5a32338cde521434019477966afaf1e08c7f2f9c10ae0da02e06cffef3d80db"
 },
 "nbformat": 3,
 "nbformat_minor": 0,
 "worksheets": [
  {
   "cells": [
    {
     "cell_type": "code",
     "collapsed": false,
     "input": [
      "import pickle\n",
      "\n",
      "with open(\"boothremote_data.pck\", \"r\") as picklefile:\n",
      "    boothremote_data = pickle.load(picklefile)\n",
      "    \n",
      "boothremote_to_station, station_to_boothremotes, boothremote_to_time_series = boothremote_data\n"
     ],
     "language": "python",
     "metadata": {},
     "outputs": [],
     "prompt_number": 4
    },
    {
     "cell_type": "code",
     "collapsed": false,
     "input": [
      "from collections import defaultdict \n",
      "\n",
      "station_to_time_series = {}\n",
      "\n",
      "for station, station_brs in station_to_boothremotes.iteritems():\n",
      "    #sum the daily counts from each boothremote\n",
      "    daily_counts = defaultdict(int)\n",
      "    \n",
      "    for br in station_brs:\n",
      "        time_series = boothremote_to_time_series[br]\n",
      "        for date, count in time_series:\n",
      "            daily_counts[date] += count\n",
      "    \n",
      "    station_to_time_series[station] = daily_counts.items()"
     ],
     "language": "python",
     "metadata": {},
     "outputs": [],
     "prompt_number": 9
    },
    {
     "cell_type": "code",
     "collapsed": false,
     "input": [
      "daily_full_mta_counts = defaultdict(int)\n",
      "weekly_full_mta_counts = defaultdict(int)\n",
      "\n",
      "for station, time_series in station_to_time_series.iteritems():\n",
      "    for date, count in time_series:\n",
      "        daily_full_mta_counts[date] += count\n",
      "        week = date.isocalendar()[1]\n",
      "        weekly_full_mta_counts[week] += count\n",
      "\n",
      "daily_full_mta_time_series = sorted(daily_full_mta_counts.items())\n",
      "weekly_full_mta_time_series = sorted(weekly_full_mta_counts.items())\n",
      "\n"
     ],
     "language": "python",
     "metadata": {},
     "outputs": [],
     "prompt_number": 21
    },
    {
     "cell_type": "code",
     "collapsed": false,
     "input": [
      "%matplotlib inline\n",
      "import matplotlib.pyplot as plt\n",
      "\n",
      "x,y = [], []\n",
      "for date, count in daily_full_mta_time_series:\n",
      "    x.append(date)\n",
      "    y.append(count)\n",
      "    \n",
      "#plt.plot(x,y)\n",
      "\n",
      "x1,y1 = [], []\n",
      "for date, count in weekly_full_mta_time_series:\n",
      "    x1.append(date)\n",
      "    y1.append(count)\n",
      "    \n",
      "x1.pop(0)\n",
      "x1.pop()\n",
      "y1.pop(0)\n",
      "y1.pop()\n",
      "\n",
      "plt.plot(x1,y1, \"ro\")\n"
     ],
     "language": "python",
     "metadata": {},
     "outputs": [
      {
       "metadata": {},
       "output_type": "pyout",
       "prompt_number": 24,
       "text": [
        "[<matplotlib.lines.Line2D at 0x10a7bbf50>]"
       ]
      },
      {
       "metadata": {},
       "output_type": "display_data",
       "png": "[encoded data removed]",
       "text": [
        "<matplotlib.figure.Figure at 0x10ec0d810>"
       ]
      }
     ],
     "prompt_number": 24
    },
    {
     "cell_type": "code",
     "collapsed": false,
     "input": [
      "from sklearn.linear_model import LinearRegression\n",
      "import numpy as np\n",
      "\n",
      "X = np.asarray(x1).reshape(len(x1), 1)\n",
      "Y = np.asarray(y1).reshape(len(y1), 1)\n",
      "\n",
      "regressor = LinearRegression(fit_intercept=True).fit(X,Y)\n",
      "y_fit = regressor.predict(X)\n",
      "\n",
      "plt.plot(x1,y1,'ro')\n",
      "plt.plot(x1,y_fit)\n"
     ],
     "language": "python",
     "metadata": {},
     "outputs": [
      {
       "metadata": {},
       "output_type": "pyout",
       "prompt_number": 34,
       "text": [
        "[<matplotlib.lines.Line2D at 0x10eec5450>]"
       ]
      },
      {
       "metadata": {},
       "output_type": "display_data",
       "png": "[encoded data removed]",
       "text": [
        "<matplotlib.figure.Figure at 0x10eec5810>"
       ]
      }
     ],
     "prompt_number": 34
    },
    {
     "cell_type": "code",
     "collapsed": false,
     "input": [
      "observed_slope = regressor.coef_[0,0]\n",
      "print observed_slope"
     ],
     "language": "python",
     "metadata": {},
     "outputs": [
      {
       "output_type": "stream",
       "stream": "stdout",
       "text": [
        "-157702.296703\n"
       ]
      }
     ],
     "prompt_number": 62
    },
    {
     "cell_type": "code",
     "collapsed": false,
     "input": [
      "mu = np.mean(y1)\n",
      "sigma = np.std(y1)\n",
      "\n",
      "import random\n",
      "simulated_slopes, extreme_slopes = [], []\n",
      "for simuation in range(50000):\n",
      "    simulated_weekly_counts = []\n",
      "\n",
      "    for i in range(13):\n",
      "        simulated_weekly_counts.append(random.normalvariate(mu, sigma))\n",
      "\n",
      "    #plt.plot(x1, simulated_weekly_counts, 'ro')\n",
      "\n",
      "    sim_Y = np.asarray(simulated_weekly_counts).reshape(len(simulated_weekly_counts), 1)\n",
      "\n",
      "\n",
      "    sim_regressor = LinearRegression(fit_intercept=True).fit(X,sim_Y)\n",
      "    sim_y_fit = sim_regressor.predict(X)\n",
      "    #plt.plot(x1,sim_y_fit)\n",
      "    sim_slope = sim_regressor.coef_[0,0]\n",
      "    simulated_slopes.append(sim_slope)\n",
      "    if (sim_slope <= observed_slope):\n",
      "        extreme_slopes.append(sim_slope)\n"
     ],
     "language": "python",
     "metadata": {},
     "outputs": [],
     "prompt_number": 68
    },
    {
     "cell_type": "code",
     "collapsed": false,
     "input": [
      "print float(len(extreme_slopes))/len(simulated_slopes)"
     ],
     "language": "python",
     "metadata": {},
     "outputs": [
      {
       "output_type": "stream",
       "stream": "stdout",
       "text": [
        "0.09324\n"
       ]
      }
     ],
     "prompt_number": 70
    },
    {
     "cell_type": "code",
     "collapsed": false,
     "input": [],
     "language": "python",
     "metadata": {},
     "outputs": []
    }
   ],
   "metadata": {}
  }
 ]
}