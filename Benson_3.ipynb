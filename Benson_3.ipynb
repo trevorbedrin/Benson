{
 "metadata": {
  "name": "",
  "signature": "sha256:162dfffbdfdb850d0688b2ad3f9fa024e3c25a60f1f386c2fa2fd603adcab76e"
 },
 "nbformat": 3,
 "nbformat_minor": 0,
 "worksheets": [
  {
   "cells": [
    {
     "cell_type": "markdown",
     "metadata": {},
     "source": [
      "## Download the data"
     ]
    },
    {
     "cell_type": "code",
     "collapsed": false,
     "input": [
      "%matplotlib inline\n",
      "import mta\n",
      "\n",
      "mta.get_turnstile_data(num_files=14,\n",
      "                       data_url=\"http://web.mta.info/developers/turnstile.html\",\n",
      "                       destination='./data/')"
     ],
     "language": "python",
     "metadata": {},
     "outputs": []
    },
    {
     "cell_type": "markdown",
     "metadata": {},
     "source": [
      "## Get the data out of the csvs"
     ]
    },
    {
     "cell_type": "code",
     "collapsed": true,
     "input": [
      "from pprint import pprint\n",
      "\n",
      "filenames = mta.get_glob()\n",
      "ts = mta.extract_turnstile_data_from_csvs(filenames)\n",
      "print len(ts)"
     ],
     "language": "python",
     "metadata": {},
     "outputs": []
    },
    {
     "cell_type": "markdown",
     "metadata": {},
     "source": [
      "##Get turnstile counts"
     ]
    },
    {
     "cell_type": "code",
     "collapsed": false,
     "input": [
      "reload(mta)\n",
      "import datetime\n",
      "\n",
      "# this is actually quite awesome but not at all fast. \n",
      "#2014-08-08 17:00:14.194766\n",
      "#calculating turnstile counts for 4545 turnstiles.\n",
      "#2014-08-08 17:01:58.087474\n",
      "\n",
      "turnstile_data = mta.get_ts_counts_fastawesome(ts)\n",
      "print len(turnstile_data)"
     ],
     "language": "python",
     "metadata": {},
     "outputs": []
    },
    {
     "cell_type": "markdown",
     "metadata": {},
     "source": [
      "##Collapse turnstiles to booth-remotes"
     ]
    },
    {
     "cell_type": "code",
     "collapsed": false,
     "input": [
      "# collapse the data to booth-remotes\n",
      "#[takes a minute but not as long as the day count extraction]\n",
      "boothremote_raw,boothremotes = mta.collapse_data_to_booth_remote(turnstile_data)"
     ],
     "language": "python",
     "metadata": {},
     "outputs": []
    },
    {
     "cell_type": "code",
     "collapsed": false,
     "input": [
      "# how many boothremotes are there?\n",
      "print 'number of boothremotes: ',len(boothremotes) \n",
      "\n",
      "# what does one boothremote look like?\n",
      "br_id,br_counts = boothremotes.iteritems().next()\n",
      "#print 'br id of first booth remote: ',br_id\n",
      "#print 'daily counts:'\n",
      "#pprint(br_counts)"
     ],
     "language": "python",
     "metadata": {},
     "outputs": []
    },
    {
     "cell_type": "markdown",
     "metadata": {},
     "source": [
      "#PLOT"
     ]
    },
    {
     "cell_type": "code",
     "collapsed": false,
     "input": [
      "import matplotlib.pyplot as plt\n",
      "# plot the turnstile entry counts per day for one boothremote\n",
      "dates,counts = mta.dates_and_counts(br_counts)\n",
      "f = plt.figure(figsize=(10,3))\n",
      "p = plt.plot(dates,counts)"
     ],
     "language": "python",
     "metadata": {},
     "outputs": []
    },
    {
     "cell_type": "code",
     "collapsed": false,
     "input": [
      "import numpy as np\n",
      "\n",
      "counts_by_week = mta.reshape_flat_counts_to_weekly(counts)\n",
      "#print counts_by_week\n",
      "\n",
      "for week in counts_by_week:\n",
      "    plt.plot(week)\n",
      "    \n",
      "xl = plt.xlabel('Day of the week')\n",
      "yl = plt.ylabel('Number of turnstile entries')\n",
      "xt = plt.xticks(np.arange(7),['S','S','M','T','W','R','F'])"
     ],
     "language": "python",
     "metadata": {},
     "outputs": []
    },
    {
     "cell_type": "markdown",
     "metadata": {},
     "source": [
      "###Function for rainbow weekly ridership curves"
     ]
    },
    {
     "cell_type": "code",
     "collapsed": false,
     "input": [
      "# let's make a function that does everything we just did to make this \"rainbow line\" plot\n",
      "# try it out on a random boothremote\n",
      "import random\n",
      "br = random.sample(boothremotes.items(),1)[0]\n",
      "\n",
      "# what station is that anyway?\n",
      "# make the station key\n",
      "station_key = mta.create_booth_remote_station_key('data/turnstile_key.csv')\n",
      "#print station_key[br_id]\n",
      "\n",
      "mta.plot_weeks(br,station_key[br[0]])"
     ],
     "language": "python",
     "metadata": {},
     "outputs": []
    },
    {
     "cell_type": "code",
     "collapsed": false,
     "input": [
      "# make a function that does all that stuff up there and do it on a random station\n",
      "import random\n",
      "reload(mta)\n",
      "\n",
      "#sta = ('R202','R042')\n",
      "mta.plot_timeseries_and_weeklies(mta.get_a_random_boothremote(boothremotes),station_key)\n",
      "#plot_timeseries_and_weeklies((sta,boothremotes[sta]))\n",
      "#pprint(boothremotes[sta])"
     ],
     "language": "python",
     "metadata": {},
     "outputs": []
    },
    {
     "cell_type": "code",
     "collapsed": false,
     "input": [
      "# let's take the rainbow plot and turn it into averages with error bars\n",
      "\n",
      "# boothremotes weekly\n",
      "br = mta.get_a_random_boothremote(boothremotes)\n",
      "station_name = station_key[br[0]]\n",
      "print br[0], station_name \n",
      "\n",
      "weekly = mta.reshape_flat_counts_to_weekly([c for d,c in br[1]])\n",
      "print weekly\n",
      "\n",
      "# numpy arrays are awesome! by using the axis parameter you can find the mean of all columns at once.\n",
      "import numpy as np\n",
      "print np.mean(weekly,0).astype(int)\n",
      "print np.std(weekly,0).astype(int)"
     ],
     "language": "python",
     "metadata": {},
     "outputs": []
    },
    {
     "cell_type": "code",
     "collapsed": false,
     "input": [
      "#so let's make a plot of the means \n",
      "from scipy import stats\n",
      "err = stats.sem(weekly)\n",
      "#print err\n",
      "\n",
      "f=plt.figure(figsize=(8,3))\n",
      "plt.errorbar(np.arange(7),np.mean(weekly,0),yerr=err)\n",
      "#plt.errorbar(np.arange(7),np.mean(weekly,0),yerr=np.std(weekly,0))\n",
      "#a = plt.gca()\n",
      "xl = plt.xlim([-1,7])\n",
      "xt = plt.xticks(np.arange(8),['S','S','M','T','W','R','F',''])\n",
      "tt = plt.title(station_name)"
     ],
     "language": "python",
     "metadata": {},
     "outputs": []
    },
    {
     "cell_type": "code",
     "collapsed": false,
     "input": [
      "# and let's turn this into a function\n",
      "\n",
      "def plot_avg_weeklies_with_err_bars(br=None):\n",
      "    if not br: \n",
      "        br=mta.get_a_random_boothremote(boothremotes)\n",
      "\n",
      "    weekly = mta.reshape_flat_counts_to_weekly([c for d,c in br[1]])\n",
      "#    err = np.std(weekly,0)\n",
      "    err = stats.sem(weekly)\n",
      "    f=plt.figure(figsize=(8,3))\n",
      "    plt.errorbar(np.arange(7),np.mean(weekly,0),yerr=err)\n",
      "    xl = plt.xlim([-1,7])\n",
      "    xt = plt.xticks(np.arange(8),['S','S','M','T','W','R','F',''])\n",
      "    tt = plt.title(station_key[br[0]])\n",
      "    return \n",
      "\n",
      "#test it\n",
      "plot_avg_weeklies_with_err_bars()"
     ],
     "language": "python",
     "metadata": {},
     "outputs": []
    },
    {
     "cell_type": "code",
     "collapsed": false,
     "input": [
      "# so there is more than one booth remote per station. Let's see what we can do about that\n",
      "\n",
      "# we have the station key but it goes the wrong way. let's change it around so that we are indexing on the station name\n",
      "from collections import defaultdict\n",
      "\n",
      "station_dict = defaultdict(list)\n",
      "for boothremote,station in station_key.items():\n",
      "    station_dict[station].append(boothremote)\n",
      "    \n",
      "#pprint(dict(station_dict))\n",
      "\n",
      "#let's get a random station\n",
      "def get_a_random_station():\n",
      "    station = random.sample(station_dict,1)[0]\n",
      "    return station\n",
      "print station, station_dict[station]\n",
      "\n",
      "\n",
      "#'86 ST' is a good one with lots of booth remotes\n"
     ],
     "language": "python",
     "metadata": {},
     "outputs": []
    },
    {
     "cell_type": "code",
     "collapsed": false,
     "input": [
      "# and let's alter our function from above to plot all of the booth remotes for a station\n",
      "def plot_all_brs_for_station(station=None):\n",
      "    if not station: \n",
      "        station=get_a_random_station()\n",
      "    f=plt.figure(figsize=(8,3))\n",
      "    \n",
      "    for boothremote in station_dict[station]:\n",
      "        br = boothremotes[boothremote]\n",
      "        weekly = mta.reshape_flat_counts_to_weekly([c for d,c in br])\n",
      "        #print boothremote\n",
      "        #print weekly\n",
      "        plt.errorbar(np.arange(7),np.mean(weekly,0),yerr=err,label=boothremote)\n",
      "        \n",
      "    xl = plt.xlim([-1,7])\n",
      "    xt = plt.xticks(np.arange(8),['S','S','M','T','W','R','F',''])\n",
      "    tt = plt.title(station)\n",
      "    plt.legend(bbox_to_anchor=(1.35,1))\n",
      "    #lg = plt.figlegend(f,label=station_dict[station],loc=3)\n",
      "    return \n",
      "\n",
      "plot_all_brs_for_station()\n",
      "#plot_all_brs_for_station(station='BOWLING GREEN')\n"
     ],
     "language": "python",
     "metadata": {},
     "outputs": []
    },
    {
     "cell_type": "code",
     "collapsed": false,
     "input": [
      "stations = {}\n",
      "for station,br_names in station_dict.items():\n",
      "    total_ridership = 0\n",
      "    daily_totals = np.array([0,0,0,0,0,0,0])\n",
      "    for br_name in br_names: \n",
      "        br = boothremotes[br_name]\n",
      "        weekly = mta.reshape_flat_counts_to_weekly([c for d,c in br])\n",
      "        weekly_sums = np.sum(weekly,0)\n",
      "        daily_totals = daily_totals+weekly_sums\n",
      "        total_ridership += np.sum(weekly_sums)\n",
      "    stations[station]={\n",
      "    'daily_totals':daily_totals,\n",
      "    'total_ridership':total_ridership}\n",
      "        "
     ],
     "language": "python",
     "metadata": {},
     "outputs": []
    },
    {
     "cell_type": "code",
     "collapsed": false,
     "input": [
      "total_ridership = []\n",
      "for station,br_names in station_dict.items():\n",
      "    total_ridership.append((sum([sum([c for d,c in boothremotes[br_name]]) for br_name in br_names]),station))\n",
      "    \n",
      "average_weekly_ridership = []\n",
      "for station,br_names in station_dict.items()[:5]:\n",
      "    rect= [[c for d,c in boothremotes[br_name]] for br_name in br_names]\n",
      "    print len(br_names)\n",
      "#    mean_rect = np.mean(rect)\n",
      "    print rect#,mean_rect\n",
      "\n",
      "#    a = [sum(reshape_flat_counts_to_weekly([c for d,c in boothremotes[br_name]]),1) for br_name in br_names]\n",
      "#    average_weekly_ridership.append((sum(a)*1.0/len(a),station))\n",
      "\n",
      "        \n"
     ],
     "language": "python",
     "metadata": {},
     "outputs": []
    },
    {
     "cell_type": "code",
     "collapsed": false,
     "input": [
      "pprint(list(reversed(sorted(total_ridership))))"
     ],
     "language": "python",
     "metadata": {},
     "outputs": []
    },
    {
     "cell_type": "code",
     "collapsed": false,
     "input": [
      "station_totals = [a for (a,b) in total_ridership]\n",
      "#print station_totals\n",
      "h = plt.hist(station_totals,50)"
     ],
     "language": "python",
     "metadata": {},
     "outputs": []
    },
    {
     "cell_type": "markdown",
     "metadata": {},
     "source": [
      "## bullpen"
     ]
    },
    {
     "cell_type": "code",
     "collapsed": true,
     "input": [
      "#how many turnstiles? \n",
      "print len(turnstile_data)\n",
      "\n",
      "# how many turnstile counts (data points)? \n",
      "turnstile_counts = 0\n",
      "for t,c in turnstile_data.iteritems(): \n",
      "    turnstile_counts += len(c)\n",
      "print turnstile_counts\n",
      "\n",
      "# average # of counts per turnstile? \n",
      "print turnstile_counts*1.0/len(turnstile_data.items())\n",
      "\n",
      "# how many days are there in our set of files? \n",
      "print len(filenames)*7"
     ],
     "language": "python",
     "metadata": {},
     "outputs": []
    },
    {
     "cell_type": "code",
     "collapsed": true,
     "input": [
      "# another way -- make a list of the counts\n",
      "turnstile_count_list = []\n",
      "turnstiles = turnstile_data.iteritems()\n",
      "for t,c in turnstiles: \n",
      "    turnstile_count_list.append(len(c))    \n"
     ],
     "language": "python",
     "metadata": {},
     "outputs": []
    },
    {
     "cell_type": "code",
     "collapsed": true,
     "input": [
      "# what is the average # of data points per turnstile?\n",
      "dppt = sum(turnstile_count_list)*1.0/len(turnstile_count_list)\n",
      "print 'average:', dppt\n",
      "print 'min: ', min(turnstile_count_list)\n",
      "print 'max: ', max(turnstile_count_list)\n",
      "\n",
      "# what are the unique #s of data points per turnstile?\n",
      "unique_counts = list(set(turnstile_count_list))\n",
      "print sorted(unique_counts)"
     ],
     "language": "python",
     "metadata": {},
     "outputs": []
    },
    {
     "cell_type": "code",
     "collapsed": false,
     "input": [
      "# how much data did we get from each turnstile?\n",
      "from collections import defaultdict\n",
      "\n",
      "count_counts = defaultdict(int)\n",
      "for c in turnstile_count_list:\n",
      "    count_counts[c]+=1\n",
      "    \n",
      "# some are missing values, most have 119. we can check this out later if we think it is important\n",
      "#for c in sorted(count_counts.keys()):\n",
      "#    print c,count_counts[c]\n",
      "\n",
      "# make a histogram?\n",
      "# in order to do that we need a list of x values and a list of y values instead of a dictionary\n",
      "def dict_to_x_y(dictionary):\n",
      "    exes = sorted(dictionary.keys())\n",
      "    whys = [dictionary[x] for x in exes]\n",
      "    return exes,whys\n",
      "\n",
      "categories,counts = dict_to_x_y(dict(count_counts))\n",
      "#print categories,counts"
     ],
     "language": "python",
     "metadata": {},
     "outputs": []
    },
    {
     "cell_type": "code",
     "collapsed": true,
     "input": [
      "import numpy as np\n",
      "import matplotlib.pyplot as plt\n",
      "\n",
      "ind = np.arange(len(counts))\n",
      "p = plt.bar(ind,counts)\n",
      "\n",
      "#hard to see much "
     ],
     "language": "python",
     "metadata": {},
     "outputs": []
    },
    {
     "cell_type": "code",
     "collapsed": true,
     "input": [
      "# this time let's add labels and use a log scale so we can see everything.\n",
      "pp = plt.bar(ind,counts,log=True)\n",
      "plt.ylabel('Number of turnstiles')\n",
      "plt.xlabel('Number of data points per turnstile')\n",
      "xticks = plt.xticks(ind[0:][::3]+0.5,categories[0:][::3])"
     ],
     "language": "python",
     "metadata": {},
     "outputs": []
    },
    {
     "cell_type": "code",
     "collapsed": false,
     "input": [],
     "language": "python",
     "metadata": {},
     "outputs": []
    }
   ],
   "metadata": {}
  }
 ]
}