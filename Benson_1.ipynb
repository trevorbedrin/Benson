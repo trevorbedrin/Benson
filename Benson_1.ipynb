{
 "metadata": {
  "name": "",
  "signature": "sha256:63e2e97230e5dfbf8a968e616a81c9c4729c32f328f811fd478ae0be08d89622"
 },
 "nbformat": 3,
 "nbformat_minor": 0,
 "worksheets": [
  {
   "cells": [
    {
     "cell_type": "markdown",
     "metadata": {},
     "source": [
      "## Download the data"
     ]
    },
    {
     "cell_type": "code",
     "collapsed": false,
     "input": [
      "%matplotlib inline\n",
      "import mta\n",
      "\n",
      "mta.get_turnstile_data(num_files=14,\n",
      "                       data_url=\"http://web.mta.info/developers/turnstile.html\",\n",
      "                       destination='./data/')"
     ],
     "language": "python",
     "metadata": {},
     "outputs": []
    }
   ],
   "metadata": {}
  }
 ]
}