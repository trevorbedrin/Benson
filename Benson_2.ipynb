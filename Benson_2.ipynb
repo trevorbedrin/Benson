{
 "metadata": {
  "name": "",
  "signature": "sha256:666d5751cf0140c4f7830334126792341a30873bd66c9ff2eebe9c14740865d0"
 },
 "nbformat": 3,
 "nbformat_minor": 0,
 "worksheets": [
  {
   "cells": [
    {
     "cell_type": "markdown",
     "metadata": {},
     "source": [
      "##Open questions\n",
      "\n",
      "1. What is a Control Area/Booth? \n",
      "2. What is a Remote Unit?\n",
      "3. How do Remotes, Booths, and Stations relate to eachother? For example, remote R051 belongs to 2 stations, Lexington Ave and 59th St. Lexington also has remote R\n",
      "4. If we understand booths, stations, remotes, and turnstiles, can we tell from this data what line the entries belong to? How do the multi-line stations work in NY? Does swiping happen before or after you've disambiguated what train you're getting on? \n",
      "5. Occasional negative counts. :/\n",
      "6. REGULAR column\n",
      "\n",
      "##Answers\n",
      "\n",
      "1. \"Division\" in the key refers to which historical rail system the lines were part of. This is related to why some trains are letters and some numbers\n"
     ]
    },
    {
     "cell_type": "markdown",
     "metadata": {},
     "source": [
      "###Field Descriptions\n",
      "\n",
      "*C/A,UNIT,SCP,DATE1,TIME1,DESC1,ENTRIES1,EXITS1,DATE2,TIME2,DESC2,ENTRIES2,EXITS2,DATE3,TIME3,DESC3,ENTRIES3,EXITS3,DATE4,TIME4,DESC4,ENTRIES4,EXITS4,DATE5,TIME5,DESC5,ENTRIES5,EXITS5,DATE6,TIME6,DESC6,ENTRIES6,EXITS6,DATE7,TIME7,DESC7,ENTRIES7,EXITS7,DATE8,TIME8,DESC8,ENTRIES8,EXITS8\n",
      "\n",
      "\n",
      "* C/A = Control Area (A002) [also called a \"Booth\" elsewhere]\n",
      "* UNIT = Remote Unit for a station (R051)\n",
      "* SCP = Subunit Channel Position represents an specific address for a device (02-00-00)\n",
      "* DATEn = Represents the date (MM-DD-YY)\n",
      "* TIMEn = Represents the time (hh:mm:ss) for a scheduled audit event\n",
      "* DEScn = Represent the \"REGULAR\" scheduled audit event (occurs every 4 hours)\n",
      "* ENTRIESn = The comulative entry register value for a device\n",
      "* EXISTn = The cumulative exit register value for a device\n",
      "\n"
     ]
    },
    {
     "cell_type": "markdown",
     "metadata": {},
     "source": [
      "###first line in turnstile data: \n",
      "\n",
      "['A002', 'R051', '02-00-00', '07-19-14', '00:00:00', 'REGULAR', '004708005', '001599249', '07-19-14', '04:00:00', 'REGULAR', '004708036', '001599255', '07-19-14', '08:00:00', 'REGULAR', '004708055', '001599280', '07-19-14', '12:00:00', 'REGULAR', '004708176', '001599370', '07-19-14', '16:00:00', 'REGULAR', '004708455', '001599418', '07-19-14', '20:00:00', 'REGULAR', '004708760', '001599463', '07-20-14', '00:00:00', 'REGULAR', '004708939', '001599486', '07-20-14', '04:00:00', 'REGULAR', '004708980', '001599490 ']\n",
      "\n",
      "###corresponding entry for 'R051' from turnstile_key.xls:\n",
      "\n",
      "<table>\n",
      "<tr>\n",
      "<td>Remote<td>Booth<td>Station<td>Line Name<td>Division\n",
      "</tr>\n",
      "<tr>\n",
      "<td>R051<td>A002<td>LEXINGTON AVE<td>456NQR<td>BMT\n",
      "</tr>\n",
      "</table>\n",
      "\n"
     ]
    },
    {
     "cell_type": "markdown",
     "metadata": {},
     "source": [
      "## Download the data"
     ]
    },
    {
     "cell_type": "code",
     "collapsed": false,
     "input": [
      "%matplotlib inline\n",
      "import mta\n",
      "\n",
      "mta.get_turnstile_data(num_files=14,\n",
      "                       data_url=\"http://web.mta.info/developers/turnstile.html\",\n",
      "                       destination='./data/')"
     ],
     "language": "python",
     "metadata": {},
     "outputs": []
    },
    {
     "cell_type": "markdown",
     "metadata": {},
     "source": [
      "## Get the data out of the csvs"
     ]
    },
    {
     "cell_type": "code",
     "collapsed": true,
     "input": [
      "%matplotlib inline\n",
      "import mta\n",
      "from pprint import pprint\n",
      "\n",
      "filenames = mta.get_glob()\n",
      "ts = mta.extract_turnstile_data_from_csvs(filenames)\n",
      "print len(ts)"
     ],
     "language": "python",
     "metadata": {},
     "outputs": []
    },
    {
     "cell_type": "markdown",
     "metadata": {},
     "source": [
      "##Get turnstile counts"
     ]
    },
    {
     "cell_type": "code",
     "collapsed": false,
     "input": [
      "import datetime\n",
      "\n",
      "# this is actually quite awesome but not at all fast. \n",
      "#2014-08-08 17:00:14.194766\n",
      "#calculating turnstile counts for turnstiles.\n",
      "#2014-08-08 17:01:58.087474\n",
      "\n",
      "turnstile_data = mta.get_ts_counts_fastawesome(ts)\n",
      "print len(turnstile_data)"
     ],
     "language": "python",
     "metadata": {},
     "outputs": []
    },
    {
     "cell_type": "markdown",
     "metadata": {},
     "source": [
      "##Collapse turnstiles to booth-remotes"
     ]
    },
    {
     "cell_type": "code",
     "collapsed": false,
     "input": [
      "# collapse the data to booth-remotes\n",
      "#[takes a minute but not as long as the day count extraction]\n",
      "boothremote_raw,boothremotes = mta.collapse_data_to_booth_remote(turnstile_data)"
     ],
     "language": "python",
     "metadata": {},
     "outputs": []
    },
    {
     "cell_type": "code",
     "collapsed": false,
     "input": [
      "# how many boothremotes are there?\n",
      "print 'number of boothremotes: ',len(boothremotes) \n",
      "\n",
      "# what does one boothremote look like?\n",
      "br_id,br_counts = boothremotes.iteritems().next()\n",
      "#print 'br id of first booth remote: ',br_id\n",
      "#print 'daily counts:'\n",
      "#pprint(br_counts)"
     ],
     "language": "python",
     "metadata": {},
     "outputs": []
    },
    {
     "cell_type": "markdown",
     "metadata": {},
     "source": [
      "#PLOT"
     ]
    },
    {
     "cell_type": "code",
     "collapsed": false,
     "input": [
      "import matplotlib.pyplot as plt\n",
      "# plot the turnstile entry counts per day for one boothremote\n",
      "dates,counts = mta.dates_and_counts(br_counts)\n",
      "f = plt.figure(figsize=(10,3))\n",
      "p = plt.plot(dates,counts)"
     ],
     "language": "python",
     "metadata": {},
     "outputs": []
    }
   ],
   "metadata": {}
  }
 ]
}